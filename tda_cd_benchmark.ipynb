{
  "nbformat": 4,
  "nbformat_minor": 0,
  "metadata": {
    "colab": {
      "private_outputs": true,
      "provenance": [],
      "gpuType": "T4",
      "collapsed_sections": [
        "yQX3VRLWEk7b",
        "FJj2wY-KT5hA"
      ]
    },
    "kernelspec": {
      "name": "python3",
      "display_name": "Python 3"
    },
    "language_info": {
      "name": "python"
    },
    "accelerator": "GPU"
  },
  "cells": [
    {
      "cell_type": "code",
      "source": [
        "!git clone https://github.com/kdiAAA/TDA.git\n",
        "%cd TDA\n",
        "\n",
        "!pip install -r requirements.txt\n",
        "!pip install wandb"
      ],
      "metadata": {
        "collapsed": true,
        "id": "WXY26Nj18pKt"
      },
      "execution_count": null,
      "outputs": []
    },
    {
      "cell_type": "markdown",
      "source": [
        "# cd_benchmark"
      ],
      "metadata": {
        "id": "yQX3VRLWEk7b"
      }
    },
    {
      "cell_type": "code",
      "source": [
        "%mkdir dataset\n",
        "%cd dataset\n",
        "\n",
        "#stanford_cars\n",
        "%mkdir stanford_cars\n",
        "#!wget 'http://ai.stanford.edu/~jkrause/car196/cars_test.tgz'       #NOTE: not working\n",
        "#!tar -xf cars_test.tgz -C stanford_cars\n",
        "# !wget 'http://ai.stanford.edu/~jkrause/car196/cars_test_annos_withlabels.mat'\n",
        "# !mv cars_test_annos_withlabels.mat stanford_cars\n",
        "\n",
        "import kagglehub\n",
        "import shutil\n",
        "path = kagglehub.dataset_download(\"jessicali9530/stanford-cars-dataset\")\n",
        "shutil.move(path, \"/stanford_cars\")\n",
        "!gdown 1ObCFbaAgVu0I-k_Au-gIUcefirdAuizT -O stanford_cars/split_zhou_StanfordCars.json\n",
        "\n",
        "#sun397\n",
        "%mkdir sun397\n",
        "!wget 'http://vision.princeton.edu/projects/2010/SUN/SUN397.tar.gz'\n",
        "!tar -xf SUN397.tar.gz -C sun397\n",
        "\n",
        "!wget 'https://vision.princeton.edu/projects/2010/SUN/download/Partitions.zip'\n",
        "!unzip Partitions.zip -d sun397\n",
        "\n",
        "!gdown 1y2RD81BYuiyvebdN-JymPfyWYcd8_MUq -O sun397/split_zhou_SUN397.json\n",
        "\n",
        "!rm -rf *.tar.gz *.zip\n",
        "\n",
        "#Caltech101\n",
        "!wget 'https://data.caltech.edu/records/mzrjq-6wc02/files/caltech-101.zip'\n",
        "!unzip caltech-101.zip\n",
        "!tar -xf caltech-101/101_ObjectCategories.tar.gz -C caltech-101\n",
        "!tar -xf caltech-101/Annotations.tar -C caltech-101\n",
        "\n",
        "!gdown 1hyarUivQE36mY6jSomru6Fjd-JzwcCzN -O caltech-101/split_zhou_Caltech101.json\n",
        "\n",
        "#dtd\n",
        "!wget 'https://www.robots.ox.ac.uk/~vgg/data/dtd/download/dtd-r1.0.1.tar.gz'\n",
        "!tar -xf dtd-r1.0.1.tar.gz\n",
        "!gdown 1u3_QfB467jqHgNXC00UIzbLZRQCg2S7x -O dtd/split_zhou_DescribableTextures.json\n",
        "\n",
        "#eurosat\n",
        "!wget 'http://madm.dfki.de/files/sentinel/EuroSAT.zip'\n",
        "!unzip EuroSAT.zip -d eurosat\n",
        "!gdown 1Ip7yaCWFi0eaOFUGga0lUdVi_DDQth1o -O eurosat/split_zhou_EuroSAT.json\n",
        "\n",
        "#fgvc\n",
        "!wget 'https://www.robots.ox.ac.uk/~vgg/data/fgvc-aircraft/archives/fgvc-aircraft-2013b.tar.gz'\n",
        "!tar -xf fgvc-aircraft-2013b.tar.gz\n",
        "%mkdir fgvc_aircraft\n",
        "!mv fgvc-aircraft-2013b/data/* fgvc_aircraft/\n",
        "\n",
        "#food101\n",
        "!wget 'http://data.vision.ee.ethz.ch/cvl/food-101.tar.gz'\n",
        "!tar -xf food-101.tar.gz\n",
        "!gdown 1QK0tGi096I0Ba6kggatX1ee6dJFIcEJl -O food-101/split_zhou_Food101.json\n",
        "\n",
        "#oxford_flowers\n",
        "%mkdir oxford_flowers\n",
        "!wget 'https://www.robots.ox.ac.uk/~vgg/data/flowers/102/102flowers.tgz'\n",
        "!tar -xf 102flowers.tgz -C oxford_flowers\n",
        "!gdown 1Pp0sRXzZFZq15zVOzKjKBu4A9i01nozT -O oxford_flowers/split_zhou_OxfordFlowers.json\n",
        "\n",
        "!wget https://www.robots.ox.ac.uk/~vgg/data/flowers/102/imagelabels.mat\n",
        "!mv imagelabels.mat oxford_flowers\n",
        "\n",
        "!gdown 1AkcxCXeK_RCGCEC_GvmWxjcjaNhu-at0 -O oxford_flowers/cat_to_name.json\n",
        "\n",
        "#oxford_pets\n",
        "%mkdir oxford_pets\n",
        "!wget 'https://www.robots.ox.ac.uk/~vgg/data/pets/data/images.tar.gz'\n",
        "!tar -xf images.tar.gz -C oxford_pets\n",
        "\n",
        "!wget 'https://www.robots.ox.ac.uk/~vgg/data/pets/data/annotations.tar.gz'\n",
        "!tar -xf annotations.tar.gz -C oxford_pets\n",
        "\n",
        "!gdown 1501r8Ber4nNKvmlFVQZ8SeUHTcdTTEqs -O oxford_pets/split_zhou_OxfordPets.json\n",
        "\n",
        "#ucf101\n",
        "%mkdir ucf101\n",
        "!gdown 10Jqome3vtUA2keJkNanAiFpgbyC9Hc2O\n",
        "!unzip UCF-101-midframes.zip -d ucf101\n",
        "!gdown 1I0S0q91hJfsV9Gf4xDIjgDq4AqBNJb1y -O ucf101/split_zhou_UCF101.json"
      ],
      "metadata": {
        "id": "Bkf0MyDZQvlZ",
        "collapsed": true
      },
      "execution_count": null,
      "outputs": []
    },
    {
      "cell_type": "code",
      "source": [
        "!rm -rf *.tar.gz *.zip\n",
        "%cd .."
      ],
      "metadata": {
        "id": "mtMr22N4Rfss"
      },
      "execution_count": null,
      "outputs": []
    },
    {
      "cell_type": "code",
      "source": [
        "!bash ./scripts/run_cd_benchmark_vit.sh"
      ],
      "metadata": {
        "id": "yrxtXckd0wqR"
      },
      "execution_count": null,
      "outputs": []
    },
    {
      "cell_type": "code",
      "source": [
        "!bash ./scripts/run_cd_benchmark_rn50.sh"
      ],
      "metadata": {
        "id": "sBMztecT6i8n"
      },
      "execution_count": null,
      "outputs": []
    },
    {
      "cell_type": "markdown",
      "source": [
        "# Experiments"
      ],
      "metadata": {
        "id": "0naz8yo0JSOR"
      }
    },
    {
      "cell_type": "code",
      "source": [
        "%mkdir dataset\n",
        "%cd dataset\n",
        "\n",
        "import kagglehub\n",
        "import shutil\n",
        "\n",
        "#stanford_cars\n",
        "%mkdir stanford_cars\n",
        "path = kagglehub.dataset_download(\"jessicali9530/stanford-cars-dataset\")\n",
        "shutil.move(path, \"stanford_cars\")\n",
        "!gdown 1ObCFbaAgVu0I-k_Au-gIUcefirdAuizT -O stanford_cars/split_zhou_StanfordCars.json\n",
        "\n",
        "%cd .."
      ],
      "metadata": {
        "id": "87F4QKmjT4WY"
      },
      "execution_count": null,
      "outputs": []
    },
    {
      "cell_type": "code",
      "source": [
        "%cd dataset\n",
        "#oxford_pets\n",
        "%mkdir oxford_pets\n",
        "!wget 'https://www.robots.ox.ac.uk/~vgg/data/pets/data/images.tar.gz'\n",
        "!tar -xf images.tar.gz -C oxford_pets\n",
        "\n",
        "!wget 'https://www.robots.ox.ac.uk/~vgg/data/pets/data/annotations.tar.gz'\n",
        "!tar -xf annotations.tar.gz -C oxford_pets\n",
        "\n",
        "!gdown 1501r8Ber4nNKvmlFVQZ8SeUHTcdTTEqs -O oxford_pets/split_zhou_OxfordPets.json\n",
        "\n",
        "%cd .."
      ],
      "metadata": {
        "id": "8t9gotqbVtyZ"
      },
      "execution_count": null,
      "outputs": []
    },
    {
      "cell_type": "code",
      "source": [
        "!python tda_runner_experiments.py --config configs --wandb-log --datasets oxford_pets --backbone RN50"
      ],
      "metadata": {
        "id": "8nvmtTaPJlir"
      },
      "execution_count": null,
      "outputs": []
    }
  ]
}